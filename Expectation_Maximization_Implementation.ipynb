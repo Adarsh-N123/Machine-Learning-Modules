{
  "nbformat": 4,
  "nbformat_minor": 0,
  "metadata": {
    "colab": {
      "provenance": []
    },
    "kernelspec": {
      "name": "python3",
      "display_name": "Python 3"
    },
    "language_info": {
      "name": "python"
    }
  },
  "cells": [
    {
      "cell_type": "code",
      "source": [
        "import numpy as np\n",
        "import pandas as pd\n",
        "import matplotlib.pyplot as plt\n",
        "import math"
      ],
      "metadata": {
        "id": "UUwHTS3kw_uO"
      },
      "execution_count": null,
      "outputs": []
    },
    {
      "cell_type": "code",
      "execution_count": null,
      "metadata": {
        "id": "r_BhlWSeu1XR"
      },
      "outputs": [],
      "source": [
        "class EMALGO:\n",
        "  def __init__(self,n,nsamples,probs,cluster_probs,max_iterations,threshold):\n",
        "    self.noofsamples = nsamples\n",
        "    self.probs = probs\n",
        "    self.cluster_probs = cluster_probs\n",
        "    self.generated_samples =None\n",
        "    self.n = n\n",
        "    self.max_iterations = max_iterations\n",
        "    self.threshold = threshold\n",
        "    self.stores = None\n",
        "  def sample(self):\n",
        "    k = len(self.probs)\n",
        "    binomial_points = []\n",
        "    for i in range(len(self.probs)):\n",
        "        p = int(self.cluster_probs[i] * self.noofsamples)\n",
        "        bin_points = np.random.binomial(self.n, self.probs[i], p)\n",
        "        for j in bin_points:\n",
        "            binomial_points.append(j)\n",
        "    binomial_points = np.random.permutation(binomial_points)\n",
        "    final_binomial_points = np.array(binomial_points)\n",
        "    self.generated_samples = final_binomial_points\n",
        "    return final_binomial_points\n",
        "  def calcf_x(self,pc,xi):\n",
        "    return (pc ** xi) * ((1 - pc) ** (self.n - xi)) * math.comb(self.n, xi)\n",
        "  def EM(self):\n",
        "    initialize_cluster_probs = np.ones(len(self.probs))/len(self.probs)\n",
        "    initialize_probs = np.random.rand(len(self.probs))\n",
        "    initialize_gammas = np.zeros((len(self.generated_samples),len(self.probs)))\n",
        "    iterations = self.max_iterations\n",
        "    while (iterations>=0):\n",
        "      storeprobs = initialize_probs.copy()\n",
        "      storeclusters = initialize_cluster_probs.copy()\n",
        "      for j in range(len(self.generated_samples)):\n",
        "        likelihoods = [(initialize_cluster_probs[i]*self.calcf_x(initialize_probs[i],self.generated_samples[j])) for i in range(len(self.probs))]\n",
        "        initialize_gammas[j] = likelihoods/np.sum(likelihoods)\n",
        "      for k in range(len(self.probs)):\n",
        "            initialize_probs[k] = np.sum(initialize_gammas[:, k] * self.generated_samples) / np.sum(initialize_gammas[:, k] * self.n)\n",
        "      initialize_cluster_probs = np.mean(initialize_gammas,axis=0)\n",
        "      if np.max(np.abs(storeprobs-initialize_probs))<self.threshold and np.max(np.abs(storeclusters-initialize_cluster_probs))<self.threshold:\n",
        "        del storeprobs,storeclusters\n",
        "        break\n",
        "      else:\n",
        "        del storeprobs,storeclusters\n",
        "      iterations-=1\n",
        "    self.stores = [initialize_probs,initialize_cluster_probs]\n",
        "    return initialize_probs,initialize_cluster_probs\n"
      ]
    },
    {
      "cell_type": "code",
      "source": [
        "binomial_model = EMALGO(10,10000,[0.1,0.3,0.5,0.7,0.9],[0.2,0.4,0.1,0.2,0.1],max_iterations=100000,threshold=1e-4)"
      ],
      "metadata": {
        "id": "Kl_gcTwFwl6p"
      },
      "execution_count": null,
      "outputs": []
    },
    {
      "cell_type": "code",
      "source": [
        "binomial_model"
      ],
      "metadata": {
        "colab": {
          "base_uri": "https://localhost:8080/"
        },
        "id": "oDeqTgGuwv67",
        "outputId": "ff931beb-7bbe-41b7-c82f-b65187f1425e"
      },
      "execution_count": null,
      "outputs": [
        {
          "output_type": "execute_result",
          "data": {
            "text/plain": [
              "<__main__.EMALGO at 0x7d4dd1dc3070>"
            ]
          },
          "metadata": {},
          "execution_count": 286
        }
      ]
    },
    {
      "cell_type": "code",
      "source": [
        "binomial_model.sample()"
      ],
      "metadata": {
        "colab": {
          "base_uri": "https://localhost:8080/"
        },
        "id": "ntw7bkrBw0Zx",
        "outputId": "e1564b51-3875-4a1c-f0a0-dc7ac96bd80e"
      },
      "execution_count": null,
      "outputs": [
        {
          "output_type": "execute_result",
          "data": {
            "text/plain": [
              "array([3, 2, 1, ..., 6, 9, 4])"
            ]
          },
          "metadata": {},
          "execution_count": 287
        }
      ]
    },
    {
      "cell_type": "code",
      "source": [
        "probs,cluster_probs = binomial_model.EM()"
      ],
      "metadata": {
        "id": "iG35t1xqyfQ9"
      },
      "execution_count": null,
      "outputs": []
    },
    {
      "cell_type": "code",
      "source": [
        "probs"
      ],
      "metadata": {
        "colab": {
          "base_uri": "https://localhost:8080/"
        },
        "id": "-qajbPOKAyQF",
        "outputId": "43a697b7-3f32-4832-bc31-152271cc6950"
      },
      "execution_count": null,
      "outputs": [
        {
          "output_type": "execute_result",
          "data": {
            "text/plain": [
              "array([0.38354908, 0.12505185, 0.88880613, 0.33133495, 0.68393001])"
            ]
          },
          "metadata": {},
          "execution_count": 289
        }
      ]
    },
    {
      "cell_type": "code",
      "source": [
        "cluster_probs"
      ],
      "metadata": {
        "colab": {
          "base_uri": "https://localhost:8080/"
        },
        "id": "zNU0--TEBMBB",
        "outputId": "953a6b28-a1ce-4164-ff43-dcdcc66938a8"
      },
      "execution_count": null,
      "outputs": [
        {
          "output_type": "execute_result",
          "data": {
            "text/plain": [
              "array([0.16763989, 0.27124645, 0.1165546 , 0.24240192, 0.20215713])"
            ]
          },
          "metadata": {},
          "execution_count": 290
        }
      ]
    },
    {
      "cell_type": "code",
      "source": [],
      "metadata": {
        "id": "7VCZwbKyOHhr"
      },
      "execution_count": null,
      "outputs": []
    }
  ]
}