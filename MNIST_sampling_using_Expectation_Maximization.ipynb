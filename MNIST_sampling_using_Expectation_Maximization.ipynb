{
  "nbformat": 4,
  "nbformat_minor": 0,
  "metadata": {
    "colab": {
      "provenance": [],
      "gpuType": "T4"
    },
    "kernelspec": {
      "name": "python3",
      "display_name": "Python 3"
    },
    "language_info": {
      "name": "python"
    },
    "accelerator": "GPU"
  },
  "cells": [
    {
      "cell_type": "markdown",
      "source": [
        "## Importing Libraries"
      ],
      "metadata": {
        "id": "VAKyZku-WQch"
      }
    },
    {
      "cell_type": "code",
      "execution_count": null,
      "metadata": {
        "cellView": "form",
        "id": "zacIcAuOVnA1"
      },
      "outputs": [],
      "source": [
        "modules = \"numpy,pandas,matplotlib,sklearn,fetch_openml,tqdm\" # @param {type:\"string\"}\n",
        "mods = modules.split(\",\")\n",
        "for i in mods:\n",
        "  if i==\"numpy\":\n",
        "    import numpy as np\n",
        "  if i==\"pandas\":\n",
        "    import pandas as pd\n",
        "  if i==\"matplotlib\":\n",
        "    import matplotlib.pyplot as plt\n",
        "  if i==\"sklearn\":\n",
        "    import sklearn\n",
        "  if i==\"fetch_openml\":\n",
        "    from sklearn.datasets import fetch_openml\n",
        "  if i==\"tqdm\":\n",
        "    from tqdm import tqdm\n",
        "  if i==\"cupy\":\n",
        "    import cupy as np\n"
      ]
    },
    {
      "cell_type": "markdown",
      "source": [
        "## Dataset Preparation and EM"
      ],
      "metadata": {
        "id": "ZbEjCm7qWbAX"
      }
    },
    {
      "cell_type": "markdown",
      "source": [
        "<div align=\"center\">\n",
        "  <img src=\"https://drive.google.com/uc?id=19RX1Icr9m4OH2r5kwnIIE-WqmT9LOpiN\" alt=\"Example Image\" style=\"border-radius: 30px;width:40px;\">\n",
        "</div>\n"
      ],
      "metadata": {
        "id": "eo66XicIyIl8"
      }
    },
    {
      "cell_type": "markdown",
      "source": [
        "### The E-step Function"
      ],
      "metadata": {
        "id": "zAJbRYj_x4bB"
      }
    },
    {
      "cell_type": "markdown",
      "source": [
        "\n",
        "\n",
        "```\n",
        "def Estep(self):\n",
        "    for i in range(len(self.X)):\n",
        "      original_values = self.Pis * np.prod((((2*self.Probs.T)**(self.X[i][np.newaxis,:]))).T, axis=0) * np.prod((((2*(1 - self.Probs.T))**(1 - self.X[i][np.newaxis,:]))).T, axis=0)\n",
        "      max_value = np.max(original_values)\n",
        "      scaled_values = original_values / max_value\n",
        "      sum_scaled_values = np.sum(scaled_values)\n",
        "      normalized_values = scaled_values / sum_scaled_values\n",
        "      self.gamma[i] = normalized_values\n",
        "```\n",
        "\n",
        "\n"
      ],
      "metadata": {
        "id": "P-tM_GdnveYI"
      }
    },
    {
      "cell_type": "markdown",
      "source": [
        "### The M-step Function"
      ],
      "metadata": {
        "id": "UrYpXaoeyBQB"
      }
    },
    {
      "cell_type": "markdown",
      "source": [
        "\n",
        "\n",
        "```\n",
        "def Mstep(self):\n",
        "    self.Pis = np.sum(self.gamma,axis=0)/len(self.X)\n",
        "    Probsn = np.random.rand(len(self.clusters),len(self.X[0]))\n",
        "    for k in range(len(self.clusters)):\n",
        "        num = 0\n",
        "        deno = 0\n",
        "        for i in range(len(self.X)):\n",
        "          num+=self.gamma[i][k]*self.X[i]\n",
        "          deno+=self.gamma[i][k]\n",
        "        Probsn[k] = num/deno\n",
        "    self.Probs = Probsn.T.copy()\n",
        "    del Probsn\n",
        "```\n",
        "\n"
      ],
      "metadata": {
        "id": "OMGEjBOBx7st"
      }
    },
    {
      "cell_type": "code",
      "source": [
        "from sklearn.utils import resample"
      ],
      "metadata": {
        "id": "vgcnO08PB3Qp"
      },
      "execution_count": null,
      "outputs": []
    },
    {
      "cell_type": "code",
      "source": [
        "class EMMNIST:\n",
        "  def __init__(self,clusters):\n",
        "    self.X,self.y,self.mnist,self.Pis, self.Probs,self.gamma = None, None, None, None, None, None\n",
        "    self.clusters = clusters\n",
        "    self.mus,self.clusterpoints = None,None\n",
        "  def dataset_download(self):\n",
        "    self.mnist = fetch_openml(\"mnist_784\")\n",
        "  def undersample_dataframe(self,df, label_column):\n",
        "    counts = df[label_column].value_counts()\n",
        "    min_count = counts.min()\n",
        "    sampled_dfs = []\n",
        "    for label, group in df.groupby(label_column):\n",
        "        sampled_dfs.append(group.sample(min_count))\n",
        "    return pd.concat(sampled_dfs)\n",
        "  def initialize_data(self):\n",
        "    (self.X,self.y) = (self.mnist.data,self.mnist.target)\n",
        "    self.X[\"y\"] = self.y\n",
        "    self.X = self.undersample_dataframe(self.X,\"y\")\n",
        "    self.X = self.X.drop(\"y\",axis=1)\n",
        "    self.X = self.X.to_numpy()\n",
        "    self.X[self.X<128]=0\n",
        "    self.X[self.X>=128]=1\n",
        "    self.X = pd.DataFrame(self.X)\n",
        "    self.X[\"y\"] = self.y\n",
        "    y_values = self.clusters\n",
        "    self.X = self.X.query('y in @y_values')\n",
        "    (self.X,self.y) = (self.X.drop(\"y\",axis=1).to_numpy(),np.array(self.X[\"y\"]))\n",
        "    self.Pis = np.ones(len(self.clusters)) / len(self.clusters)\n",
        "    self.Probs = np.random.rand(len(self.X[0]),len(self.clusters))\n",
        "    self.gamma = np.zeros((len(self.X), len(self.clusters)))\n",
        "  def plotdatapoint(self,i):\n",
        "    plt.imshow(self.X[i].reshape(28,28),cmap='binary')\n",
        "    plt.axis('off')\n",
        "    plt.show()\n",
        "  def Estep(self):\n",
        "    for i in range(len(self.X)):\n",
        "      original_values = self.Pis * np.prod((((2*self.Probs.T)**(self.X[i][np.newaxis,:]))).T, axis=0) * np.prod((((2*(1 - self.Probs.T))**(1 - self.X[i][np.newaxis,:]))).T, axis=0)\n",
        "      max_value = np.max(original_values)\n",
        "      scaled_values = original_values / max_value\n",
        "      sum_scaled_values = np.sum(scaled_values)\n",
        "      normalized_values = scaled_values / sum_scaled_values\n",
        "      self.gamma[i] = normalized_values\n",
        "  def Mstep(self):\n",
        "    self.Pis = np.sum(self.gamma,axis=0)/len(self.X)\n",
        "    Probsn = np.random.rand(len(self.clusters),len(self.X[0]))\n",
        "    for k in range(len(self.clusters)):\n",
        "        num = 0\n",
        "        deno = 0\n",
        "        for i in range(len(self.X)):\n",
        "          num+=self.gamma[i][k]*self.X[i]\n",
        "          deno+=self.gamma[i][k]\n",
        "        Probsn[k] = num/deno\n",
        "    self.Probs = Probsn.T.copy()\n",
        "    del Probsn\n",
        "  def train(self,max_iters=40,tolerance=1e-12):\n",
        "    noofclusters,noofpoints = len(self.clusters),len(self.X)\n",
        "    for iter in tqdm(range(max_iters)):\n",
        "      Pis_old,Probs_old = self.Pis.copy(),self.Probs.copy()\n",
        "      self.Estep()\n",
        "      self.Mstep()\n",
        "      if np.max(np.abs(self.Pis - Pis_old)) < tolerance and np.max(np.abs(self.Probs - Probs_old)) < tolerance:\n",
        "        print(\"EM Algorithm Converged Successfully!!!\")\n",
        "        print(f\"New Changes after training {max_iters} iterations are:\")\n",
        "        print((np.max(np.abs(self.Pis - Pis_old)),np.max(np.abs(self.Probs - Probs_old))))\n",
        "        break\n",
        "  def clusterize(self):\n",
        "    bernoulli_points = self.X\n",
        "    feat,temp,count = len(self.clusters),[],[]\n",
        "    for i in range(feat):\n",
        "      temp.append(np.zeros(784))\n",
        "      count.append(0)\n",
        "    for i in range(len(self.X)):\n",
        "      temp[np.argmax(self.gamma[i])] = temp[np.argmax(self.gamma[i])] + self.X[i]\n",
        "      count[np.argmax(self.gamma[i])]+=1\n",
        "    self.mus = []\n",
        "    for i in range(len(count)):\n",
        "      self.mus.append(np.array(temp[i])/count[i])\n",
        "    self.mus = np.array(self.mus)\n",
        "    self.clusterpoints = np.array(count)\n",
        "  def plotclusteraverages(self):\n",
        "    indices = []\n",
        "    for i in range(len(self.clusters)):\n",
        "      indices.append(i+1)\n",
        "    num_plots = len(indices)\n",
        "    fig, axes = plt.subplots(1, num_plots, figsize=(15, 5))\n",
        "    for ax, i in zip(axes, indices):\n",
        "        result_image = self.mus[i-1]\n",
        "        result_image = result_image.reshape(28, 28)\n",
        "        ax.imshow(result_image, cmap='binary')\n",
        "        ax.set_title(f'Cluster Average of Cluster {i}')\n",
        "        ax.axis('off')\n",
        "    plt.tight_layout()\n",
        "    plt.show()\n",
        "  def sample_multivariate_bernoulli(self,cluster):\n",
        "    probabilities = self.Probs.T[cluster]\n",
        "    probabilities = np.clip(probabilities, 0, 1)\n",
        "    sample = np.random.rand(len(probabilities)) < probabilities\n",
        "    return sample.astype(int)\n",
        "  def gennewsamples(self,cluster):\n",
        "    plt.imshow(self.sample_multivariate_bernoulli(cluster).reshape(28,28),cmap='binary')\n",
        "    plt.title(f\"The Generated Sample From Cluster {cluster}\")\n",
        "    plt.axis('off')\n",
        "    plt.show()\n",
        "  def generateallaverages(self,points):\n",
        "    num_clusters = len(self.clusters)\n",
        "    fig, axes = plt.subplots(1, num_clusters, figsize=(15, 3))\n",
        "    for cluster_index in range(num_clusters):\n",
        "        temp = np.zeros(784)\n",
        "        for _ in range(points):\n",
        "            temp += self.sample_multivariate_bernoulli(cluster_index)\n",
        "        temp_avg = temp / points\n",
        "        axes[cluster_index].imshow(temp_avg.reshape(28, 28), cmap='binary')\n",
        "        axes[cluster_index].set_title(f'Cluster {cluster_index+1}')\n",
        "        axes[cluster_index].axis('off')\n",
        "    plt.show()\n"
      ],
      "metadata": {
        "id": "N7z18OMpWN5D"
      },
      "execution_count": null,
      "outputs": []
    },
    {
      "cell_type": "markdown",
      "source": [
        "## Initializing the Estimator and Downloading the Data"
      ],
      "metadata": {
        "id": "MEJwlpq0tCPL"
      }
    },
    {
      "cell_type": "code",
      "source": [
        "estimator = EMMNIST(['1','2','3','4','5','6','7','8','9','0'])\n",
        "estimator.dataset_download()\n",
        "estimator.initialize_data()"
      ],
      "metadata": {
        "colab": {
          "base_uri": "https://localhost:8080/"
        },
        "id": "_Xk6FkILYvOU",
        "outputId": "d7d7b35a-a361-464c-9025-345c04ab2108"
      },
      "execution_count": null,
      "outputs": [
        {
          "output_type": "stream",
          "name": "stderr",
          "text": [
            "/usr/local/lib/python3.10/dist-packages/sklearn/datasets/_openml.py:968: FutureWarning: The default value of `parser` will change from `'liac-arff'` to `'auto'` in 1.4. You can set `parser='auto'` to silence this warning. Therefore, an `ImportError` will be raised from 1.4 if the dataset is dense and pandas is not installed. Note that the pandas parser may return different data types. See the Notes Section in fetch_openml's API doc for details.\n",
            "  warn(\n"
          ]
        }
      ]
    },
    {
      "cell_type": "markdown",
      "source": [
        "## Training the Estimator"
      ],
      "metadata": {
        "id": "zDuo7h-9tLRz"
      }
    },
    {
      "cell_type": "code",
      "source": [
        "MaxIterations = 80 # @param {type:\"slider\", min:0, max:100, step:1}\n",
        "Tolerance = 1e-14 # @param {type:\"slider\", min:1e-14, max:1, step:1e-13}\n",
        "\n",
        "estimator.train(max_iters=MaxIterations,tolerance=Tolerance)"
      ],
      "metadata": {
        "colab": {
          "base_uri": "https://localhost:8080/"
        },
        "cellView": "form",
        "id": "C9guHRCGe2fk",
        "outputId": "e4d8f801-3004-4077-e3a9-2aa58e875ff0"
      },
      "execution_count": null,
      "outputs": [
        {
          "output_type": "stream",
          "name": "stderr",
          "text": [
            "100%|██████████| 40/40 [21:54<00:00, 32.87s/it]\n"
          ]
        }
      ]
    },
    {
      "cell_type": "markdown",
      "source": [
        "## Clusterwise Averages"
      ],
      "metadata": {
        "id": "2ZXxgi5ZtPg1"
      }
    },
    {
      "cell_type": "code",
      "source": [
        "estimator.clusterize()\n",
        "estimator.plotclusteraverages()"
      ],
      "metadata": {
        "colab": {
          "base_uri": "https://localhost:8080/",
          "height": 126
        },
        "id": "BIyCpWKyfan7",
        "outputId": "181a6eb5-cda4-46ba-ce6a-21ccbd2dc2f9"
      },
      "execution_count": null,
      "outputs": [
        {
          "output_type": "display_data",
          "data": {
            "text/plain": [
              "<Figure size 1500x500 with 10 Axes>"
            ],
            "image/png": "[encoded data removed]"
          },
          "metadata": {}
        }
      ]
    },
    {
      "cell_type": "markdown",
      "source": [
        "## Averages of Generated Samples using probabilities obtained from EM"
      ],
      "metadata": {
        "id": "nXeio3p9tS6_"
      }
    },
    {
      "cell_type": "code",
      "source": [
        "NoOfPointsForAverage = 306 # @param {type:\"slider\", min:0, max:100000, step:1}\n",
        "estimator.generateallaverages(NoOfPointsForAverage)"
      ],
      "metadata": {
        "colab": {
          "base_uri": "https://localhost:8080/",
          "height": 135
        },
        "cellView": "form",
        "id": "bwUN35ggm4lM",
        "outputId": "e6c488c1-36b2-4ece-9071-1309e34bb665"
      },
      "execution_count": null,
      "outputs": [
        {
          "output_type": "display_data",
          "data": {
            "text/plain": [
              "<Figure size 1500x300 with 10 Axes>"
            ],
            "image/png": "[encoded data removed]"
          },
          "metadata": {}
        }
      ]
    },
    {
      "cell_type": "markdown",
      "source": [
        "## Sample Generator"
      ],
      "metadata": {
        "id": "-i419qm3tavA"
      }
    },
    {
      "cell_type": "code",
      "source": [
        "Cluster = 2 # @param {type:\"slider\", min:1, max:10, step:1}\n",
        "if (Cluster<=len(estimator.clusters)):\n",
        "  estimator.gennewsamples(Cluster-1)\n",
        "else:\n",
        "  print(\"Please Enter A valid Value.\")"
      ],
      "metadata": {
        "colab": {
          "base_uri": "https://localhost:8080/",
          "height": 428
        },
        "cellView": "form",
        "id": "-DdWFJ5Lm_05",
        "outputId": "ade14336-baca-43ea-e481-23b6d24f05fd"
      },
      "execution_count": null,
      "outputs": [
        {
          "output_type": "display_data",
          "data": {
            "text/plain": [
              "<Figure size 640x480 with 1 Axes>"
            ],
            "image/png": "[encoded data removed]"
          },
          "metadata": {}
        }
      ]
    },
    {
      "cell_type": "code",
      "source": [],
      "metadata": {
        "id": "5TNoP84P06DF"
      },
      "execution_count": null,
      "outputs": []
    }
  ]
}